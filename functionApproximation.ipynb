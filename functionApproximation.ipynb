{
 "cells": [
  {
   "cell_type": "code",
   "execution_count": null,
   "metadata": {},
   "outputs": [],
   "source": [
    "import numpy as np\n",
    "import tensorflow as tf\n",
    "import tensorflow.contrib.layers as layers\n",
    "import os"
   ]
  },
  {
   "cell_type": "code",
   "execution_count": null,
   "metadata": {},
   "outputs": [],
   "source": [
    "import matplotlib.pyplot as plt\n",
    "from mpl_toolkits.mplot3d import Axes3D"
   ]
  },
  {
   "cell_type": "code",
   "execution_count": null,
   "metadata": {},
   "outputs": [],
   "source": [
    "# Check if Exisiting Images Folder Exists\n",
    "if 'images' in os.listdir():\n",
    "    os.system('rm -rf images')\n",
    "os.makedirs('images')\n",
    "\n",
    "# Check if Existing Tensorboard Log Exists\n",
    "if os.path.isdir('tensorboard'):\n",
    "    os.system('rm -rf tensorboard')\n",
    "   "
   ]
  },
  {
   "cell_type": "code",
   "execution_count": null,
   "metadata": {},
   "outputs": [],
   "source": [
    "# Input Parameters\n",
    "n_inputs = 2\n",
    "n_outputs = 1\n",
    "maxValue = 2\n",
    "minValue = -2\n",
    "smooth = 25\n",
    "createGif = True\n",
    "\n",
    "# Hyper Parameters\n",
    "n_hidden1 = 8\n",
    "alpha = 0.02\n",
    "testSize = 1000\n",
    "batchSize = 50\n",
    "episodes = 3000\n",
    "\n",
    "optimizers = [tf.train.GradientDescentOptimizer, \n",
    "              tf.train.AdamOptimizer, \n",
    "              tf.train.AdagradOptimizer, \n",
    "              tf.train.RMSPropOptimizer]\n",
    "optimizer = optimizers[1]\n",
    "\n",
    "activations = [tf.nn.sigmoid,\n",
    "               tf.nn.elu,\n",
    "               tf.nn.relu,\n",
    "               tf.nn.leaky_relu,\n",
    "               tf.nn.tanh]\n",
    "activation = activations[4]\n",
    "\n",
    "# TF Variables\n",
    "X = tf.placeholder(tf.float32, shape=(None,n_inputs))\n",
    "Y_ = tf.placeholder(tf.float32, shape=(None,1), name='YHat')"
   ]
  },
  {
   "cell_type": "code",
   "execution_count": null,
   "metadata": {},
   "outputs": [],
   "source": [
    "def ourFunction(a,b):\n",
    "    return np.sin(a) + np.cos(b)"
   ]
  },
  {
   "cell_type": "code",
   "execution_count": null,
   "metadata": {},
   "outputs": [],
   "source": [
    "ax = plt.axes(projection='3d')\n",
    "x = np.outer(np.linspace(minValue, maxValue, smooth), np.ones(smooth))\n",
    "y = x.copy().T\n",
    "z = ourFunction(x,y)\n",
    "ax.plot_surface(x, y, z, cmap='ocean', rstride=1, cstride=1, linewidth=0)\n",
    "plt.show()\n",
    "plt.close()"
   ]
  },
  {
   "cell_type": "code",
   "execution_count": null,
   "metadata": {},
   "outputs": [],
   "source": [
    "# One Hidden Layer Neural Network with one output\n",
    "with tf.name_scope('Layer1'):\n",
    "    weights1 = tf.Variable(tf.truncated_normal([n_inputs,n_hidden1], \n",
    "                                               dtype=tf.float32,\n",
    "                                               stddev=1),  \n",
    "                                               name='weights1')\n",
    "    biases1 = tf.Variable(tf.constant(0.0, shape=[n_hidden1], dtype=tf.float32), name='biases1')\n",
    "    outputs1 = tf.matmul(X,weights1)\n",
    "    outputs1 = tf.nn.bias_add(outputs1,biases1)\n",
    "    outputs1 = activation(outputs1)\n",
    "    \n",
    "with tf.name_scope('Output'):\n",
    "    weights2 = tf.Variable(tf.truncated_normal([n_hidden1,n_outputs], \n",
    "                                               dtype=tf.float32,\n",
    "                                               stddev=1), \n",
    "                                               name='weights2')\n",
    "    biases2= tf.Variable(tf.constant(0.0, shape=[n_outputs], dtype=tf.float32), name='biases2')\n",
    "    outputs2 = tf.matmul(outputs1, weights2)\n",
    "    output = tf.nn.bias_add(outputs2, biases2)\n",
    "    \n",
    "    \n",
    "    "
   ]
  },
  {
   "cell_type": "code",
   "execution_count": null,
   "metadata": {},
   "outputs": [],
   "source": [
    "tf.trainable_variables()\n"
   ]
  },
  {
   "cell_type": "code",
   "execution_count": null,
   "metadata": {},
   "outputs": [],
   "source": [
    "# Create Error measurement and Optimizer\n",
    "error = tf.reduce_mean((output - Y_)**2)\n",
    "training = optimizer(alpha).minimize(error)"
   ]
  },
  {
   "cell_type": "code",
   "execution_count": null,
   "metadata": {},
   "outputs": [],
   "source": [
    "sess = tf.Session()\n",
    "init = tf.global_variables_initializer()\n",
    "sess.run(init)"
   ]
  },
  {
   "cell_type": "code",
   "execution_count": null,
   "metadata": {},
   "outputs": [],
   "source": [
    "# Setup TensorBoard Writer\n",
    "\n",
    "writer = tf.summary.FileWriter('tensorboard')\n",
    "tf.summary.scalar('Loss', error)\n",
    "tf.summary.histogram('Weights_1', weights1)\n",
    "tf.summary.histogram('Weights_2', weights2)\n",
    "tf.summary.histogram('Biases_1', biases1)\n",
    "tf.summary.histogram('Biases_2', biases2)\n",
    "write_op = tf.summary.merge_all()\n",
    "writer.add_graph(sess.graph)"
   ]
  },
  {
   "cell_type": "code",
   "execution_count": null,
   "metadata": {},
   "outputs": [],
   "source": [
    "# Build Test Set\n",
    "test = np.random.uniform(minValue,maxValue, size=(5000,2))\n",
    "test_y = ourFunction(test[:,0],test[:,1])\n",
    "test_y = test_y.reshape(len(test_y),1)"
   ]
  },
  {
   "cell_type": "code",
   "execution_count": null,
   "metadata": {},
   "outputs": [],
   "source": [
    "tf_list = []\n",
    "for i in x[:,0]:\n",
    "    for ii in y[0,:]:\n",
    "        tf_list.append([i,ii])\n",
    "tf_list = np.array(tf_list)"
   ]
  },
  {
   "cell_type": "code",
   "execution_count": null,
   "metadata": {},
   "outputs": [],
   "source": [
    "for i in range(episodes):\n",
    "    # Build Training Set\n",
    "    \n",
    "    if i < 200 and i % 2 == 0 and createGif:\n",
    "        fig = plt.figure(figsize=(10,10))\n",
    "        ax = fig.add_subplot(211,projection='3d')\n",
    "        ax.plot_surface(x, y, z, cmap='ocean', rstride=1, cstride=1, linewidth=0)\n",
    "        \n",
    "        ax = fig.add_subplot(212,projection='3d')\n",
    "        plotpoints = sess.run(output, feed_dict={X:tf_list})\n",
    "        z2 = plotpoints.reshape(smooth,smooth)\n",
    "        ax.plot_surface(x, y, z2, cmap='gnuplot', rstride=1, cstride=1, linewidth=0)\n",
    "        fig.savefig('images/test'+str(i)+'.png')\n",
    "        plt.close()\n",
    "    \n",
    "    # Create Random Training Data\n",
    "    train = np.random.uniform(minValue-1, maxValue+1, size=(batchSize,n_inputs))\n",
    "    train_y = ourFunction(train[:,0], train[:,1]) \n",
    "    train_y = train_y.reshape(len(train_y),1)\n",
    "    # Run Forward Pass of Data & Update Parameters\n",
    "    _ , errors = sess.run([training, error], feed_dict={X: train, Y_: train_y})\n",
    "    \n",
    "     \n",
    "    if i % 100 == 0:\n",
    "        # Write TF Summaries\n",
    "        summary = sess.run(write_op, feed_dict={X: train, Y_: train_y})\n",
    "        writer.add_summary(summary, i)\n",
    "        writer.flush()\n",
    "        \n",
    "        # Print Error Results\n",
    "        print('Total Training Error {}'.format(errors))\n",
    "        outputs, errors = sess.run([output, error], feed_dict={X: test, Y_: test_y})\n",
    "        print('Test Set Error {}'.format(errors))\n",
    "        print('-----------------------------------')\n",
    "        \n",
    "    if i > 200 and i % 250 == 0 and createGif:\n",
    "        fig = plt.figure(figsize=(10,10))\n",
    "        ax = fig.add_subplot(211,projection='3d')\n",
    "        ax.plot_surface(x, y, z, cmap='ocean', rstride=1, cstride=1, linewidth=0)\n",
    "        \n",
    "        ax = fig.add_subplot(212,projection='3d')\n",
    "        plotpoints = sess.run(output, feed_dict={X:tf_list})\n",
    "        z2 = plotpoints.reshape(smooth,smooth)\n",
    "        ax.plot_surface(x, y, z2, cmap='gnuplot', rstride=1, cstride=1, linewidth=0)\n",
    "        #test = plt.show()\n",
    "        fig.savefig('images/test'+str(i)+'.png')\n",
    "        plt.close()\n",
    "        \n",
    "    "
   ]
  },
  {
   "cell_type": "code",
   "execution_count": null,
   "metadata": {},
   "outputs": [],
   "source": [
    "fig = plt.figure(figsize=(10,10))\n",
    "ax = fig.add_subplot(211,projection='3d')\n",
    "\n",
    "#plt.subplot(2, 1, 2)\n",
    "ax.plot_surface(x, y, z, cmap='ocean', rstride=1, cstride=1, linewidth=0)\n",
    "\n",
    "#plt.subplot(2, 1, 1)\n",
    "ax = fig.add_subplot(212,projection='3d')\n",
    "plotpoints = sess.run(output, feed_dict={X:tf_list})\n",
    "z2 = plotpoints.reshape(smooth,smooth)\n",
    "ax.plot_surface(x, y, z2, cmap='gnuplot', rstride=1, cstride=1, linewidth=0)\n",
    "test = plt.show()\n",
    "fig.savefig('final.png')"
   ]
  },
  {
   "cell_type": "code",
   "execution_count": null,
   "metadata": {},
   "outputs": [],
   "source": [
    "if createGif:\n",
    "    os.chdir('images')\n",
    "    os.system('convert -delay 10 -loop 0 `ls -v` image.gif')"
   ]
  }
 ],
 "metadata": {
  "kernelspec": {
   "display_name": "Python 3",
   "language": "python",
   "name": "python3"
  },
  "language_info": {
   "codemirror_mode": {
    "name": "ipython",
    "version": 3
   },
   "file_extension": ".py",
   "mimetype": "text/x-python",
   "name": "python",
   "nbconvert_exporter": "python",
   "pygments_lexer": "ipython3",
   "version": "3.5.2"
  }
 },
 "nbformat": 4,
 "nbformat_minor": 2
}
